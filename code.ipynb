{
 "cells": [
  {
   "cell_type": "code",
   "execution_count": 1,
   "id": "fbd2d174",
   "metadata": {},
   "outputs": [],
   "source": [
    "import numpy as np\n",
    "import pandas as pd\n",
    "import matplotlib.pyplot as plt\n",
    "import seaborn as sns"
   ]
  },
  {
   "cell_type": "code",
   "execution_count": 2,
   "id": "363536bc",
   "metadata": {},
   "outputs": [
    {
     "data": {
      "text/html": [
       "<div>\n",
       "<style scoped>\n",
       "    .dataframe tbody tr th:only-of-type {\n",
       "        vertical-align: middle;\n",
       "    }\n",
       "\n",
       "    .dataframe tbody tr th {\n",
       "        vertical-align: top;\n",
       "    }\n",
       "\n",
       "    .dataframe thead th {\n",
       "        text-align: right;\n",
       "    }\n",
       "</style>\n",
       "<table border=\"1\" class=\"dataframe\">\n",
       "  <thead>\n",
       "    <tr style=\"text-align: right;\">\n",
       "      <th></th>\n",
       "      <th>SessionID</th>\n",
       "      <th>AdClicks</th>\n",
       "      <th>InfoSectionCount</th>\n",
       "      <th>InfoSectionTime</th>\n",
       "      <th>HelpPageVisits</th>\n",
       "      <th>HelpPageTime</th>\n",
       "      <th>ItemBrowseCount</th>\n",
       "      <th>ItemBrowseTime</th>\n",
       "      <th>ExitRateFirstPage</th>\n",
       "      <th>SessionExitRatio</th>\n",
       "      <th>PageEngagementScore</th>\n",
       "      <th>HolidayProximityIndex</th>\n",
       "      <th>VisitMonth</th>\n",
       "      <th>UserPlatformID</th>\n",
       "      <th>WebClientCode</th>\n",
       "      <th>MarketZone</th>\n",
       "      <th>TrafficSourceCode</th>\n",
       "      <th>UserCategory</th>\n",
       "      <th>IsWeekendVisit</th>\n",
       "      <th>MonetaryConversion</th>\n",
       "    </tr>\n",
       "  </thead>\n",
       "  <tbody>\n",
       "    <tr>\n",
       "      <th>0</th>\n",
       "      <td>jv3uDyqYltpoXreO</td>\n",
       "      <td>0.0</td>\n",
       "      <td>0.0</td>\n",
       "      <td>0.0</td>\n",
       "      <td>0.0</td>\n",
       "      <td>0.0</td>\n",
       "      <td>1.0</td>\n",
       "      <td>0.000000</td>\n",
       "      <td>0.20</td>\n",
       "      <td>0.20</td>\n",
       "      <td>0.0</td>\n",
       "      <td>0.0</td>\n",
       "      <td>February</td>\n",
       "      <td>Windows</td>\n",
       "      <td>Safari</td>\n",
       "      <td>North America</td>\n",
       "      <td>1.0</td>\n",
       "      <td>Returning</td>\n",
       "      <td>False</td>\n",
       "      <td>No</td>\n",
       "    </tr>\n",
       "    <tr>\n",
       "      <th>1</th>\n",
       "      <td>eBHG5YGyco8TRlac</td>\n",
       "      <td>4.0</td>\n",
       "      <td>0.0</td>\n",
       "      <td>0.0</td>\n",
       "      <td>0.0</td>\n",
       "      <td>0.0</td>\n",
       "      <td>2.0</td>\n",
       "      <td>64.000000</td>\n",
       "      <td>0.00</td>\n",
       "      <td>0.10</td>\n",
       "      <td>0.0</td>\n",
       "      <td>0.0</td>\n",
       "      <td>February</td>\n",
       "      <td>Android</td>\n",
       "      <td>Chrome</td>\n",
       "      <td>NaN</td>\n",
       "      <td>2.0</td>\n",
       "      <td>Returning</td>\n",
       "      <td>False</td>\n",
       "      <td>No</td>\n",
       "    </tr>\n",
       "    <tr>\n",
       "      <th>2</th>\n",
       "      <td>Lz5fuqr91SKGHb5N</td>\n",
       "      <td>0.0</td>\n",
       "      <td>0.0</td>\n",
       "      <td>0.0</td>\n",
       "      <td>0.0</td>\n",
       "      <td>0.0</td>\n",
       "      <td>1.0</td>\n",
       "      <td>0.000000</td>\n",
       "      <td>0.20</td>\n",
       "      <td>0.20</td>\n",
       "      <td>0.0</td>\n",
       "      <td>0.0</td>\n",
       "      <td>February</td>\n",
       "      <td>MacOS</td>\n",
       "      <td>Safari</td>\n",
       "      <td>Other</td>\n",
       "      <td>3.0</td>\n",
       "      <td>Returning</td>\n",
       "      <td>False</td>\n",
       "      <td>No</td>\n",
       "    </tr>\n",
       "    <tr>\n",
       "      <th>3</th>\n",
       "      <td>cyOsumxkpNEvKIdc</td>\n",
       "      <td>4.0</td>\n",
       "      <td>0.0</td>\n",
       "      <td>0.0</td>\n",
       "      <td>0.0</td>\n",
       "      <td>0.0</td>\n",
       "      <td>2.0</td>\n",
       "      <td>2.666667</td>\n",
       "      <td>0.05</td>\n",
       "      <td>0.14</td>\n",
       "      <td>0.0</td>\n",
       "      <td>0.0</td>\n",
       "      <td>February</td>\n",
       "      <td>iOS</td>\n",
       "      <td>NaN</td>\n",
       "      <td>Europe</td>\n",
       "      <td>4.0</td>\n",
       "      <td>Returning</td>\n",
       "      <td>False</td>\n",
       "      <td>No</td>\n",
       "    </tr>\n",
       "    <tr>\n",
       "      <th>4</th>\n",
       "      <td>F4rTMKOqtoPKzxw9</td>\n",
       "      <td>2.0</td>\n",
       "      <td>0.0</td>\n",
       "      <td>0.0</td>\n",
       "      <td>0.0</td>\n",
       "      <td>0.0</td>\n",
       "      <td>10.0</td>\n",
       "      <td>627.500000</td>\n",
       "      <td>0.02</td>\n",
       "      <td>0.05</td>\n",
       "      <td>0.0</td>\n",
       "      <td>NaN</td>\n",
       "      <td>February</td>\n",
       "      <td>iOS</td>\n",
       "      <td>Internet Explorer</td>\n",
       "      <td>NaN</td>\n",
       "      <td>4.0</td>\n",
       "      <td>Returning</td>\n",
       "      <td>True</td>\n",
       "      <td>No</td>\n",
       "    </tr>\n",
       "  </tbody>\n",
       "</table>\n",
       "</div>"
      ],
      "text/plain": [
       "          SessionID  AdClicks  InfoSectionCount  InfoSectionTime  \\\n",
       "0  jv3uDyqYltpoXreO       0.0               0.0              0.0   \n",
       "1  eBHG5YGyco8TRlac       4.0               0.0              0.0   \n",
       "2  Lz5fuqr91SKGHb5N       0.0               0.0              0.0   \n",
       "3  cyOsumxkpNEvKIdc       4.0               0.0              0.0   \n",
       "4  F4rTMKOqtoPKzxw9       2.0               0.0              0.0   \n",
       "\n",
       "   HelpPageVisits  HelpPageTime  ItemBrowseCount  ItemBrowseTime  \\\n",
       "0             0.0           0.0              1.0        0.000000   \n",
       "1             0.0           0.0              2.0       64.000000   \n",
       "2             0.0           0.0              1.0        0.000000   \n",
       "3             0.0           0.0              2.0        2.666667   \n",
       "4             0.0           0.0             10.0      627.500000   \n",
       "\n",
       "   ExitRateFirstPage  SessionExitRatio  PageEngagementScore  \\\n",
       "0               0.20              0.20                  0.0   \n",
       "1               0.00              0.10                  0.0   \n",
       "2               0.20              0.20                  0.0   \n",
       "3               0.05              0.14                  0.0   \n",
       "4               0.02              0.05                  0.0   \n",
       "\n",
       "   HolidayProximityIndex VisitMonth UserPlatformID      WebClientCode  \\\n",
       "0                    0.0   February        Windows             Safari   \n",
       "1                    0.0   February        Android             Chrome   \n",
       "2                    0.0   February          MacOS             Safari   \n",
       "3                    0.0   February            iOS                NaN   \n",
       "4                    NaN   February            iOS  Internet Explorer   \n",
       "\n",
       "      MarketZone  TrafficSourceCode UserCategory  IsWeekendVisit  \\\n",
       "0  North America                1.0    Returning           False   \n",
       "1            NaN                2.0    Returning           False   \n",
       "2          Other                3.0    Returning           False   \n",
       "3         Europe                4.0    Returning           False   \n",
       "4            NaN                4.0    Returning            True   \n",
       "\n",
       "  MonetaryConversion  \n",
       "0                 No  \n",
       "1                 No  \n",
       "2                 No  \n",
       "3                 No  \n",
       "4                 No  "
      ]
     },
     "execution_count": 2,
     "metadata": {},
     "output_type": "execute_result"
    }
   ],
   "source": [
    "df = pd.read_csv('rwsi_data.csv')\n",
    "df.head()"
   ]
  },
  {
   "cell_type": "code",
   "execution_count": 3,
   "id": "e9aabfe2",
   "metadata": {},
   "outputs": [
    {
     "name": "stdout",
     "output_type": "stream",
     "text": [
      "<class 'pandas.core.frame.DataFrame'>\n",
      "RangeIndex: 12330 entries, 0 to 12329\n",
      "Data columns (total 20 columns):\n",
      " #   Column                 Non-Null Count  Dtype  \n",
      "---  ------                 --------------  -----  \n",
      " 0   SessionID              12330 non-null  object \n",
      " 1   AdClicks               11467 non-null  float64\n",
      " 2   InfoSectionCount       11961 non-null  float64\n",
      " 3   InfoSectionTime        11961 non-null  float64\n",
      " 4   HelpPageVisits         12084 non-null  float64\n",
      " 5   HelpPageTime           12084 non-null  float64\n",
      " 6   ItemBrowseCount        11837 non-null  float64\n",
      " 7   ItemBrowseTime         11837 non-null  float64\n",
      " 8   ExitRateFirstPage      12207 non-null  float64\n",
      " 9   SessionExitRatio       12084 non-null  float64\n",
      " 10  PageEngagementScore    11961 non-null  float64\n",
      " 11  HolidayProximityIndex  11837 non-null  float64\n",
      " 12  VisitMonth             12330 non-null  object \n",
      " 13  UserPlatformID         11837 non-null  object \n",
      " 14  WebClientCode          11714 non-null  object \n",
      " 15  MarketZone             11714 non-null  object \n",
      " 16  TrafficSourceCode      11714 non-null  float64\n",
      " 17  UserCategory           11837 non-null  object \n",
      " 18  IsWeekendVisit         12330 non-null  bool   \n",
      " 19  MonetaryConversion     12330 non-null  object \n",
      "dtypes: bool(1), float64(12), object(7)\n",
      "memory usage: 1.8+ MB\n"
     ]
    }
   ],
   "source": [
    "df.info()"
   ]
  },
  {
   "cell_type": "code",
   "execution_count": 4,
   "id": "b7f21796",
   "metadata": {},
   "outputs": [
    {
     "data": {
      "text/plain": [
       "(12330, 20)"
      ]
     },
     "execution_count": 4,
     "metadata": {},
     "output_type": "execute_result"
    }
   ],
   "source": [
    "df.shape"
   ]
  },
  {
   "cell_type": "code",
   "execution_count": 5,
   "id": "3bb49708",
   "metadata": {},
   "outputs": [
    {
     "data": {
      "text/html": [
       "<div>\n",
       "<style scoped>\n",
       "    .dataframe tbody tr th:only-of-type {\n",
       "        vertical-align: middle;\n",
       "    }\n",
       "\n",
       "    .dataframe tbody tr th {\n",
       "        vertical-align: top;\n",
       "    }\n",
       "\n",
       "    .dataframe thead th {\n",
       "        text-align: right;\n",
       "    }\n",
       "</style>\n",
       "<table border=\"1\" class=\"dataframe\">\n",
       "  <thead>\n",
       "    <tr style=\"text-align: right;\">\n",
       "      <th></th>\n",
       "      <th>AdClicks</th>\n",
       "      <th>InfoSectionCount</th>\n",
       "      <th>InfoSectionTime</th>\n",
       "      <th>HelpPageVisits</th>\n",
       "      <th>HelpPageTime</th>\n",
       "      <th>ItemBrowseCount</th>\n",
       "      <th>ItemBrowseTime</th>\n",
       "      <th>ExitRateFirstPage</th>\n",
       "      <th>SessionExitRatio</th>\n",
       "      <th>PageEngagementScore</th>\n",
       "      <th>HolidayProximityIndex</th>\n",
       "      <th>TrafficSourceCode</th>\n",
       "    </tr>\n",
       "  </thead>\n",
       "  <tbody>\n",
       "    <tr>\n",
       "      <th>count</th>\n",
       "      <td>11467.000000</td>\n",
       "      <td>11961.000000</td>\n",
       "      <td>11961.000000</td>\n",
       "      <td>12084.000000</td>\n",
       "      <td>12084.000000</td>\n",
       "      <td>11837.000000</td>\n",
       "      <td>11837.000000</td>\n",
       "      <td>12207.000000</td>\n",
       "      <td>12084.000000</td>\n",
       "      <td>11961.000000</td>\n",
       "      <td>11837.000000</td>\n",
       "      <td>11714.000000</td>\n",
       "    </tr>\n",
       "    <tr>\n",
       "      <th>mean</th>\n",
       "      <td>1.993459</td>\n",
       "      <td>2.318201</td>\n",
       "      <td>80.871460</td>\n",
       "      <td>0.502565</td>\n",
       "      <td>34.420615</td>\n",
       "      <td>31.717749</td>\n",
       "      <td>1196.681677</td>\n",
       "      <td>0.022234</td>\n",
       "      <td>0.043130</td>\n",
       "      <td>5.885423</td>\n",
       "      <td>0.061806</td>\n",
       "      <td>4.069489</td>\n",
       "    </tr>\n",
       "    <tr>\n",
       "      <th>std</th>\n",
       "      <td>1.420444</td>\n",
       "      <td>3.326956</td>\n",
       "      <td>177.208946</td>\n",
       "      <td>1.271441</td>\n",
       "      <td>141.209531</td>\n",
       "      <td>44.390208</td>\n",
       "      <td>1918.148954</td>\n",
       "      <td>0.048551</td>\n",
       "      <td>0.048623</td>\n",
       "      <td>18.557293</td>\n",
       "      <td>0.199556</td>\n",
       "      <td>4.031417</td>\n",
       "    </tr>\n",
       "    <tr>\n",
       "      <th>min</th>\n",
       "      <td>0.000000</td>\n",
       "      <td>0.000000</td>\n",
       "      <td>0.000000</td>\n",
       "      <td>0.000000</td>\n",
       "      <td>0.000000</td>\n",
       "      <td>0.000000</td>\n",
       "      <td>0.000000</td>\n",
       "      <td>0.000000</td>\n",
       "      <td>0.000000</td>\n",
       "      <td>0.000000</td>\n",
       "      <td>0.000000</td>\n",
       "      <td>1.000000</td>\n",
       "    </tr>\n",
       "    <tr>\n",
       "      <th>25%</th>\n",
       "      <td>1.000000</td>\n",
       "      <td>0.000000</td>\n",
       "      <td>0.000000</td>\n",
       "      <td>0.000000</td>\n",
       "      <td>0.000000</td>\n",
       "      <td>7.000000</td>\n",
       "      <td>185.000000</td>\n",
       "      <td>0.000000</td>\n",
       "      <td>0.014286</td>\n",
       "      <td>0.000000</td>\n",
       "      <td>0.000000</td>\n",
       "      <td>2.000000</td>\n",
       "    </tr>\n",
       "    <tr>\n",
       "      <th>50%</th>\n",
       "      <td>2.000000</td>\n",
       "      <td>1.000000</td>\n",
       "      <td>8.000000</td>\n",
       "      <td>0.000000</td>\n",
       "      <td>0.000000</td>\n",
       "      <td>18.000000</td>\n",
       "      <td>598.250000</td>\n",
       "      <td>0.003125</td>\n",
       "      <td>0.025222</td>\n",
       "      <td>0.000000</td>\n",
       "      <td>0.000000</td>\n",
       "      <td>2.000000</td>\n",
       "    </tr>\n",
       "    <tr>\n",
       "      <th>75%</th>\n",
       "      <td>3.000000</td>\n",
       "      <td>4.000000</td>\n",
       "      <td>92.933333</td>\n",
       "      <td>0.000000</td>\n",
       "      <td>0.000000</td>\n",
       "      <td>38.000000</td>\n",
       "      <td>1469.666667</td>\n",
       "      <td>0.016923</td>\n",
       "      <td>0.050000</td>\n",
       "      <td>0.000000</td>\n",
       "      <td>0.000000</td>\n",
       "      <td>4.000000</td>\n",
       "    </tr>\n",
       "    <tr>\n",
       "      <th>max</th>\n",
       "      <td>4.000000</td>\n",
       "      <td>27.000000</td>\n",
       "      <td>3398.750000</td>\n",
       "      <td>24.000000</td>\n",
       "      <td>2549.375000</td>\n",
       "      <td>705.000000</td>\n",
       "      <td>63973.522230</td>\n",
       "      <td>0.200000</td>\n",
       "      <td>0.200000</td>\n",
       "      <td>361.763742</td>\n",
       "      <td>1.000000</td>\n",
       "      <td>20.000000</td>\n",
       "    </tr>\n",
       "  </tbody>\n",
       "</table>\n",
       "</div>"
      ],
      "text/plain": [
       "           AdClicks  InfoSectionCount  InfoSectionTime  HelpPageVisits  \\\n",
       "count  11467.000000      11961.000000     11961.000000    12084.000000   \n",
       "mean       1.993459          2.318201        80.871460        0.502565   \n",
       "std        1.420444          3.326956       177.208946        1.271441   \n",
       "min        0.000000          0.000000         0.000000        0.000000   \n",
       "25%        1.000000          0.000000         0.000000        0.000000   \n",
       "50%        2.000000          1.000000         8.000000        0.000000   \n",
       "75%        3.000000          4.000000        92.933333        0.000000   \n",
       "max        4.000000         27.000000      3398.750000       24.000000   \n",
       "\n",
       "       HelpPageTime  ItemBrowseCount  ItemBrowseTime  ExitRateFirstPage  \\\n",
       "count  12084.000000     11837.000000    11837.000000       12207.000000   \n",
       "mean      34.420615        31.717749     1196.681677           0.022234   \n",
       "std      141.209531        44.390208     1918.148954           0.048551   \n",
       "min        0.000000         0.000000        0.000000           0.000000   \n",
       "25%        0.000000         7.000000      185.000000           0.000000   \n",
       "50%        0.000000        18.000000      598.250000           0.003125   \n",
       "75%        0.000000        38.000000     1469.666667           0.016923   \n",
       "max     2549.375000       705.000000    63973.522230           0.200000   \n",
       "\n",
       "       SessionExitRatio  PageEngagementScore  HolidayProximityIndex  \\\n",
       "count      12084.000000         11961.000000           11837.000000   \n",
       "mean           0.043130             5.885423               0.061806   \n",
       "std            0.048623            18.557293               0.199556   \n",
       "min            0.000000             0.000000               0.000000   \n",
       "25%            0.014286             0.000000               0.000000   \n",
       "50%            0.025222             0.000000               0.000000   \n",
       "75%            0.050000             0.000000               0.000000   \n",
       "max            0.200000           361.763742               1.000000   \n",
       "\n",
       "       TrafficSourceCode  \n",
       "count       11714.000000  \n",
       "mean            4.069489  \n",
       "std             4.031417  \n",
       "min             1.000000  \n",
       "25%             2.000000  \n",
       "50%             2.000000  \n",
       "75%             4.000000  \n",
       "max            20.000000  "
      ]
     },
     "execution_count": 5,
     "metadata": {},
     "output_type": "execute_result"
    }
   ],
   "source": [
    "df.describe()"
   ]
  },
  {
   "cell_type": "code",
   "execution_count": 6,
   "id": "1bada1d5",
   "metadata": {},
   "outputs": [
    {
     "data": {
      "text/plain": [
       "SessionID                  0\n",
       "AdClicks                 863\n",
       "InfoSectionCount         369\n",
       "InfoSectionTime          369\n",
       "HelpPageVisits           246\n",
       "HelpPageTime             246\n",
       "ItemBrowseCount          493\n",
       "ItemBrowseTime           493\n",
       "ExitRateFirstPage        123\n",
       "SessionExitRatio         246\n",
       "PageEngagementScore      369\n",
       "HolidayProximityIndex    493\n",
       "VisitMonth                 0\n",
       "UserPlatformID           493\n",
       "WebClientCode            616\n",
       "MarketZone               616\n",
       "TrafficSourceCode        616\n",
       "UserCategory             493\n",
       "IsWeekendVisit             0\n",
       "MonetaryConversion         0\n",
       "dtype: int64"
      ]
     },
     "execution_count": 6,
     "metadata": {},
     "output_type": "execute_result"
    }
   ],
   "source": [
    "df.isnull().sum()"
   ]
  },
  {
   "cell_type": "code",
   "execution_count": 7,
   "id": "75851724",
   "metadata": {},
   "outputs": [
    {
     "data": {
      "text/plain": [
       "AdClicks                 6.999189\n",
       "MarketZone               4.995945\n",
       "TrafficSourceCode        4.995945\n",
       "WebClientCode            4.995945\n",
       "UserPlatformID           3.998378\n",
       "ItemBrowseCount          3.998378\n",
       "HolidayProximityIndex    3.998378\n",
       "ItemBrowseTime           3.998378\n",
       "UserCategory             3.998378\n",
       "PageEngagementScore      2.992701\n",
       "InfoSectionCount         2.992701\n",
       "InfoSectionTime          2.992701\n",
       "HelpPageTime             1.995134\n",
       "SessionExitRatio         1.995134\n",
       "HelpPageVisits           1.995134\n",
       "ExitRateFirstPage        0.997567\n",
       "SessionID                0.000000\n",
       "VisitMonth               0.000000\n",
       "IsWeekendVisit           0.000000\n",
       "MonetaryConversion       0.000000\n",
       "dtype: float64"
      ]
     },
     "execution_count": 7,
     "metadata": {},
     "output_type": "execute_result"
    }
   ],
   "source": [
    "(df.isnull().sum() / len(df) * 100).sort_values(ascending=False)"
   ]
  },
  {
   "cell_type": "code",
   "execution_count": 8,
   "id": "22cb3928",
   "metadata": {},
   "outputs": [
    {
     "name": "stdout",
     "output_type": "stream",
     "text": [
      "MonetaryConversion       1.000000\n",
      "PageEngagementScore      0.493223\n",
      "ItemBrowseCount          0.159338\n",
      "ItemBrowseTime           0.151326\n",
      "InfoSectionCount         0.137113\n",
      "HelpPageVisits           0.093856\n",
      "InfoSectionTime          0.093010\n",
      "HelpPageTime             0.070129\n",
      "TrafficSourceCode       -0.003769\n",
      "AdClicks                -0.008214\n",
      "HolidayProximityIndex   -0.082385\n",
      "ExitRateFirstPage       -0.150467\n",
      "SessionExitRatio        -0.207286\n",
      "Name: MonetaryConversion, dtype: float64\n"
     ]
    }
   ],
   "source": [
    "df['MonetaryConversion'] = df['MonetaryConversion'].map({'No': 0, 'Yes': 1})\n",
    "numeric_cols = df.select_dtypes(include=['float64', 'int64']).columns\n",
    "corr_matrix = df[numeric_cols].corr()['MonetaryConversion'].sort_values(ascending=False)\n",
    "print(corr_matrix)"
   ]
  },
  {
   "cell_type": "code",
   "execution_count": 9,
   "id": "6a7c750a",
   "metadata": {},
   "outputs": [],
   "source": [
    "df = df.dropna(subset = ['HolidayProximityIndex', 'ExitRateFirstPage', 'SessionExitRatio'])\n",
    "df = df.drop(columns=['SessionID'])"
   ]
  },
  {
   "cell_type": "code",
   "execution_count": 10,
   "id": "ae3ae5c3",
   "metadata": {},
   "outputs": [
    {
     "data": {
      "text/html": [
       "<div>\n",
       "<style scoped>\n",
       "    .dataframe tbody tr th:only-of-type {\n",
       "        vertical-align: middle;\n",
       "    }\n",
       "\n",
       "    .dataframe tbody tr th {\n",
       "        vertical-align: top;\n",
       "    }\n",
       "\n",
       "    .dataframe thead th {\n",
       "        text-align: right;\n",
       "    }\n",
       "</style>\n",
       "<table border=\"1\" class=\"dataframe\">\n",
       "  <thead>\n",
       "    <tr style=\"text-align: right;\">\n",
       "      <th></th>\n",
       "      <th>AdClicks</th>\n",
       "      <th>InfoSectionCount</th>\n",
       "      <th>InfoSectionTime</th>\n",
       "      <th>HelpPageVisits</th>\n",
       "      <th>HelpPageTime</th>\n",
       "      <th>ItemBrowseCount</th>\n",
       "      <th>ItemBrowseTime</th>\n",
       "      <th>ExitRateFirstPage</th>\n",
       "      <th>SessionExitRatio</th>\n",
       "      <th>PageEngagementScore</th>\n",
       "      <th>HolidayProximityIndex</th>\n",
       "      <th>VisitMonth</th>\n",
       "      <th>UserPlatformID</th>\n",
       "      <th>WebClientCode</th>\n",
       "      <th>MarketZone</th>\n",
       "      <th>TrafficSourceCode</th>\n",
       "      <th>UserCategory</th>\n",
       "      <th>IsWeekendVisit</th>\n",
       "      <th>MonetaryConversion</th>\n",
       "    </tr>\n",
       "  </thead>\n",
       "  <tbody>\n",
       "    <tr>\n",
       "      <th>0</th>\n",
       "      <td>0.0</td>\n",
       "      <td>0.0</td>\n",
       "      <td>0.0</td>\n",
       "      <td>0.0</td>\n",
       "      <td>0.0</td>\n",
       "      <td>1.0</td>\n",
       "      <td>0.000000</td>\n",
       "      <td>0.200000</td>\n",
       "      <td>0.200000</td>\n",
       "      <td>0.0</td>\n",
       "      <td>0.0</td>\n",
       "      <td>February</td>\n",
       "      <td>Windows</td>\n",
       "      <td>Safari</td>\n",
       "      <td>North America</td>\n",
       "      <td>1.0</td>\n",
       "      <td>Returning</td>\n",
       "      <td>False</td>\n",
       "      <td>0</td>\n",
       "    </tr>\n",
       "    <tr>\n",
       "      <th>1</th>\n",
       "      <td>4.0</td>\n",
       "      <td>0.0</td>\n",
       "      <td>0.0</td>\n",
       "      <td>0.0</td>\n",
       "      <td>0.0</td>\n",
       "      <td>2.0</td>\n",
       "      <td>64.000000</td>\n",
       "      <td>0.000000</td>\n",
       "      <td>0.100000</td>\n",
       "      <td>0.0</td>\n",
       "      <td>0.0</td>\n",
       "      <td>February</td>\n",
       "      <td>Android</td>\n",
       "      <td>Chrome</td>\n",
       "      <td>NaN</td>\n",
       "      <td>2.0</td>\n",
       "      <td>Returning</td>\n",
       "      <td>False</td>\n",
       "      <td>0</td>\n",
       "    </tr>\n",
       "    <tr>\n",
       "      <th>2</th>\n",
       "      <td>0.0</td>\n",
       "      <td>0.0</td>\n",
       "      <td>0.0</td>\n",
       "      <td>0.0</td>\n",
       "      <td>0.0</td>\n",
       "      <td>1.0</td>\n",
       "      <td>0.000000</td>\n",
       "      <td>0.200000</td>\n",
       "      <td>0.200000</td>\n",
       "      <td>0.0</td>\n",
       "      <td>0.0</td>\n",
       "      <td>February</td>\n",
       "      <td>MacOS</td>\n",
       "      <td>Safari</td>\n",
       "      <td>Other</td>\n",
       "      <td>3.0</td>\n",
       "      <td>Returning</td>\n",
       "      <td>False</td>\n",
       "      <td>0</td>\n",
       "    </tr>\n",
       "    <tr>\n",
       "      <th>3</th>\n",
       "      <td>4.0</td>\n",
       "      <td>0.0</td>\n",
       "      <td>0.0</td>\n",
       "      <td>0.0</td>\n",
       "      <td>0.0</td>\n",
       "      <td>2.0</td>\n",
       "      <td>2.666667</td>\n",
       "      <td>0.050000</td>\n",
       "      <td>0.140000</td>\n",
       "      <td>0.0</td>\n",
       "      <td>0.0</td>\n",
       "      <td>February</td>\n",
       "      <td>iOS</td>\n",
       "      <td>NaN</td>\n",
       "      <td>Europe</td>\n",
       "      <td>4.0</td>\n",
       "      <td>Returning</td>\n",
       "      <td>False</td>\n",
       "      <td>0</td>\n",
       "    </tr>\n",
       "    <tr>\n",
       "      <th>5</th>\n",
       "      <td>2.0</td>\n",
       "      <td>0.0</td>\n",
       "      <td>0.0</td>\n",
       "      <td>0.0</td>\n",
       "      <td>0.0</td>\n",
       "      <td>19.0</td>\n",
       "      <td>154.216667</td>\n",
       "      <td>0.015789</td>\n",
       "      <td>0.024561</td>\n",
       "      <td>0.0</td>\n",
       "      <td>0.0</td>\n",
       "      <td>February</td>\n",
       "      <td>NaN</td>\n",
       "      <td>Chrome</td>\n",
       "      <td>North America</td>\n",
       "      <td>3.0</td>\n",
       "      <td>Returning</td>\n",
       "      <td>False</td>\n",
       "      <td>0</td>\n",
       "    </tr>\n",
       "  </tbody>\n",
       "</table>\n",
       "</div>"
      ],
      "text/plain": [
       "   AdClicks  InfoSectionCount  InfoSectionTime  HelpPageVisits  HelpPageTime  \\\n",
       "0       0.0               0.0              0.0             0.0           0.0   \n",
       "1       4.0               0.0              0.0             0.0           0.0   \n",
       "2       0.0               0.0              0.0             0.0           0.0   \n",
       "3       4.0               0.0              0.0             0.0           0.0   \n",
       "5       2.0               0.0              0.0             0.0           0.0   \n",
       "\n",
       "   ItemBrowseCount  ItemBrowseTime  ExitRateFirstPage  SessionExitRatio  \\\n",
       "0              1.0        0.000000           0.200000          0.200000   \n",
       "1              2.0       64.000000           0.000000          0.100000   \n",
       "2              1.0        0.000000           0.200000          0.200000   \n",
       "3              2.0        2.666667           0.050000          0.140000   \n",
       "5             19.0      154.216667           0.015789          0.024561   \n",
       "\n",
       "   PageEngagementScore  HolidayProximityIndex VisitMonth UserPlatformID  \\\n",
       "0                  0.0                    0.0   February        Windows   \n",
       "1                  0.0                    0.0   February        Android   \n",
       "2                  0.0                    0.0   February          MacOS   \n",
       "3                  0.0                    0.0   February            iOS   \n",
       "5                  0.0                    0.0   February            NaN   \n",
       "\n",
       "  WebClientCode     MarketZone  TrafficSourceCode UserCategory  \\\n",
       "0        Safari  North America                1.0    Returning   \n",
       "1        Chrome            NaN                2.0    Returning   \n",
       "2        Safari          Other                3.0    Returning   \n",
       "3           NaN         Europe                4.0    Returning   \n",
       "5        Chrome  North America                3.0    Returning   \n",
       "\n",
       "   IsWeekendVisit  MonetaryConversion  \n",
       "0           False                   0  \n",
       "1           False                   0  \n",
       "2           False                   0  \n",
       "3           False                   0  \n",
       "5           False                   0  "
      ]
     },
     "execution_count": 10,
     "metadata": {},
     "output_type": "execute_result"
    }
   ],
   "source": [
    "df.head()"
   ]
  },
  {
   "cell_type": "markdown",
   "id": "38f3a504",
   "metadata": {},
   "source": [
    "Data Visualization"
   ]
  },
  {
   "cell_type": "code",
   "execution_count": 11,
   "id": "0b12ca74",
   "metadata": {},
   "outputs": [
    {
     "name": "stderr",
     "output_type": "stream",
     "text": [
      "C:\\Users\\admin\\AppData\\Local\\Temp\\ipykernel_12056\\3970262431.py:7: FutureWarning: \n",
      "\n",
      "Passing `palette` without assigning `hue` is deprecated and will be removed in v0.14.0. Assign the `x` variable to `hue` and set `legend=False` for the same effect.\n",
      "\n",
      "  sns.barplot(x=df[col], y=df[target], palette='Set2')\n"
     ]
    },
    {
     "data": {
      "image/png": "[encoded data removed]",
      "text/plain": [
       "<Figure size 800x600 with 1 Axes>"
      ]
     },
     "metadata": {},
     "output_type": "display_data"
    },
    {
     "name": "stderr",
     "output_type": "stream",
     "text": [
      "C:\\Users\\admin\\AppData\\Local\\Temp\\ipykernel_12056\\3970262431.py:7: FutureWarning: \n",
      "\n",
      "Passing `palette` without assigning `hue` is deprecated and will be removed in v0.14.0. Assign the `x` variable to `hue` and set `legend=False` for the same effect.\n",
      "\n",
      "  sns.barplot(x=df[col], y=df[target], palette='Set2')\n"
     ]
    },
    {
     "data": {
      "image/png": "[encoded data removed]",
      "text/plain": [
       "<Figure size 800x600 with 1 Axes>"
      ]
     },
     "metadata": {},
     "output_type": "display_data"
    },
    {
     "name": "stderr",
     "output_type": "stream",
     "text": [
      "C:\\Users\\admin\\AppData\\Local\\Temp\\ipykernel_12056\\3970262431.py:7: FutureWarning: \n",
      "\n",
      "Passing `palette` without assigning `hue` is deprecated and will be removed in v0.14.0. Assign the `x` variable to `hue` and set `legend=False` for the same effect.\n",
      "\n",
      "  sns.barplot(x=df[col], y=df[target], palette='Set2')\n"
     ]
    },
    {
     "data": {
      "image/png": "[encoded data removed]",
      "text/plain": [
       "<Figure size 800x600 with 1 Axes>"
      ]
     },
     "metadata": {},
     "output_type": "display_data"
    },
    {
     "name": "stderr",
     "output_type": "stream",
     "text": [
      "C:\\Users\\admin\\AppData\\Local\\Temp\\ipykernel_12056\\3970262431.py:7: FutureWarning: \n",
      "\n",
      "Passing `palette` without assigning `hue` is deprecated and will be removed in v0.14.0. Assign the `x` variable to `hue` and set `legend=False` for the same effect.\n",
      "\n",
      "  sns.barplot(x=df[col], y=df[target], palette='Set2')\n"
     ]
    },
    {
     "data": {
      "image/png": "[encoded data removed]",
      "text/plain": [
       "<Figure size 800x600 with 1 Axes>"
      ]
     },
     "metadata": {},
     "output_type": "display_data"
    },
    {
     "name": "stderr",
     "output_type": "stream",
     "text": [
      "C:\\Users\\admin\\AppData\\Local\\Temp\\ipykernel_12056\\3970262431.py:7: FutureWarning: \n",
      "\n",
      "Passing `palette` without assigning `hue` is deprecated and will be removed in v0.14.0. Assign the `x` variable to `hue` and set `legend=False` for the same effect.\n",
      "\n",
      "  sns.barplot(x=df[col], y=df[target], palette='Set2')\n"
     ]
    },
    {
     "data": {
      "image/png": "[encoded data removed]",
      "text/plain": [
       "<Figure size 800x600 with 1 Axes>"
      ]
     },
     "metadata": {},
     "output_type": "display_data"
    },
    {
     "name": "stderr",
     "output_type": "stream",
     "text": [
      "C:\\Users\\admin\\AppData\\Local\\Temp\\ipykernel_12056\\3970262431.py:7: FutureWarning: \n",
      "\n",
      "Passing `palette` without assigning `hue` is deprecated and will be removed in v0.14.0. Assign the `x` variable to `hue` and set `legend=False` for the same effect.\n",
      "\n",
      "  sns.barplot(x=df[col], y=df[target], palette='Set2')\n"
     ]
    },
    {
     "data": {
      "image/png": "[encoded data removed]",
      "text/plain": [
       "<Figure size 800x600 with 1 Axes>"
      ]
     },
     "metadata": {},
     "output_type": "display_data"
    }
   ],
   "source": [
    "numerical_features = ['AdClicks', 'InfoSectionCount', 'InfoSectionTime', 'HelpPageVisits', 'HelpPageTime', 'ItemBrowseCount', 'ItemBrowseTime', 'ExitRateFirstPage', 'SessionExitRatio', 'PageEngagementScore', 'HolidayProximityIndex', 'TrafficSourceCode']\n",
    "categorical_features = ['VisitMonth', 'UserPlatformID', 'WebClientCode', 'MarketZone', 'UserCategory', 'IsWeekendVisit']\n",
    "features = numerical_features + categorical_features\n",
    "target = 'MonetaryConversion'\n",
    "for col in categorical_features:\n",
    "    plt.figure(figsize=(8, 6))\n",
    "    sns.barplot(x=df[col], y=df[target], palette='Set2')\n",
    "    plt.title(f'{col} vs {target}')\n",
    "    plt.show()"
   ]
  },
  {
   "cell_type": "markdown",
   "id": "e186165f",
   "metadata": {},
   "source": [
    "Handling Missing Values"
   ]
  },
  {
   "cell_type": "code",
   "execution_count": 12,
   "id": "f7504225",
   "metadata": {},
   "outputs": [],
   "source": [
    "num_cols = df.select_dtypes(include=['int64', 'float64']).columns\n",
    "cat_cols = df.select_dtypes(include=['object', 'category']).columns\n",
    "# numeric columns with median\n",
    "df[num_cols] = df[num_cols].fillna(df[num_cols].median())\n",
    "df[num_cols] = df[num_cols].fillna(df[num_cols].median())\n",
    "\n",
    "# categorical columns with mode\n",
    "df[cat_cols] = df[cat_cols].fillna(df[cat_cols].mode().iloc[0])\n",
    "df[cat_cols] = df[cat_cols].fillna(df[cat_cols].mode().iloc[0])"
   ]
  },
  {
   "cell_type": "code",
   "execution_count": 13,
   "id": "c43d8cf9",
   "metadata": {},
   "outputs": [
    {
     "data": {
      "text/html": [
       "<div>\n",
       "<style scoped>\n",
       "    .dataframe tbody tr th:only-of-type {\n",
       "        vertical-align: middle;\n",
       "    }\n",
       "\n",
       "    .dataframe tbody tr th {\n",
       "        vertical-align: top;\n",
       "    }\n",
       "\n",
       "    .dataframe thead th {\n",
       "        text-align: right;\n",
       "    }\n",
       "</style>\n",
       "<table border=\"1\" class=\"dataframe\">\n",
       "  <thead>\n",
       "    <tr style=\"text-align: right;\">\n",
       "      <th></th>\n",
       "      <th>AdClicks</th>\n",
       "      <th>InfoSectionCount</th>\n",
       "      <th>InfoSectionTime</th>\n",
       "      <th>HelpPageVisits</th>\n",
       "      <th>HelpPageTime</th>\n",
       "      <th>ItemBrowseCount</th>\n",
       "      <th>ItemBrowseTime</th>\n",
       "      <th>ExitRateFirstPage</th>\n",
       "      <th>SessionExitRatio</th>\n",
       "      <th>PageEngagementScore</th>\n",
       "      <th>HolidayProximityIndex</th>\n",
       "      <th>VisitMonth</th>\n",
       "      <th>UserPlatformID</th>\n",
       "      <th>WebClientCode</th>\n",
       "      <th>MarketZone</th>\n",
       "      <th>TrafficSourceCode</th>\n",
       "      <th>UserCategory</th>\n",
       "      <th>IsWeekendVisit</th>\n",
       "      <th>MonetaryConversion</th>\n",
       "    </tr>\n",
       "  </thead>\n",
       "  <tbody>\n",
       "    <tr>\n",
       "      <th>0</th>\n",
       "      <td>0.0</td>\n",
       "      <td>0.0</td>\n",
       "      <td>0.0</td>\n",
       "      <td>0.0</td>\n",
       "      <td>0.0</td>\n",
       "      <td>1.0</td>\n",
       "      <td>0.000000</td>\n",
       "      <td>0.200000</td>\n",
       "      <td>0.200000</td>\n",
       "      <td>0.0</td>\n",
       "      <td>0.0</td>\n",
       "      <td>February</td>\n",
       "      <td>Windows</td>\n",
       "      <td>Safari</td>\n",
       "      <td>North America</td>\n",
       "      <td>1.0</td>\n",
       "      <td>Returning</td>\n",
       "      <td>False</td>\n",
       "      <td>0</td>\n",
       "    </tr>\n",
       "    <tr>\n",
       "      <th>1</th>\n",
       "      <td>4.0</td>\n",
       "      <td>0.0</td>\n",
       "      <td>0.0</td>\n",
       "      <td>0.0</td>\n",
       "      <td>0.0</td>\n",
       "      <td>2.0</td>\n",
       "      <td>64.000000</td>\n",
       "      <td>0.000000</td>\n",
       "      <td>0.100000</td>\n",
       "      <td>0.0</td>\n",
       "      <td>0.0</td>\n",
       "      <td>February</td>\n",
       "      <td>Android</td>\n",
       "      <td>Chrome</td>\n",
       "      <td>North America</td>\n",
       "      <td>2.0</td>\n",
       "      <td>Returning</td>\n",
       "      <td>False</td>\n",
       "      <td>0</td>\n",
       "    </tr>\n",
       "    <tr>\n",
       "      <th>2</th>\n",
       "      <td>0.0</td>\n",
       "      <td>0.0</td>\n",
       "      <td>0.0</td>\n",
       "      <td>0.0</td>\n",
       "      <td>0.0</td>\n",
       "      <td>1.0</td>\n",
       "      <td>0.000000</td>\n",
       "      <td>0.200000</td>\n",
       "      <td>0.200000</td>\n",
       "      <td>0.0</td>\n",
       "      <td>0.0</td>\n",
       "      <td>February</td>\n",
       "      <td>MacOS</td>\n",
       "      <td>Safari</td>\n",
       "      <td>Other</td>\n",
       "      <td>3.0</td>\n",
       "      <td>Returning</td>\n",
       "      <td>False</td>\n",
       "      <td>0</td>\n",
       "    </tr>\n",
       "    <tr>\n",
       "      <th>3</th>\n",
       "      <td>4.0</td>\n",
       "      <td>0.0</td>\n",
       "      <td>0.0</td>\n",
       "      <td>0.0</td>\n",
       "      <td>0.0</td>\n",
       "      <td>2.0</td>\n",
       "      <td>2.666667</td>\n",
       "      <td>0.050000</td>\n",
       "      <td>0.140000</td>\n",
       "      <td>0.0</td>\n",
       "      <td>0.0</td>\n",
       "      <td>February</td>\n",
       "      <td>iOS</td>\n",
       "      <td>Chrome</td>\n",
       "      <td>Europe</td>\n",
       "      <td>4.0</td>\n",
       "      <td>Returning</td>\n",
       "      <td>False</td>\n",
       "      <td>0</td>\n",
       "    </tr>\n",
       "    <tr>\n",
       "      <th>5</th>\n",
       "      <td>2.0</td>\n",
       "      <td>0.0</td>\n",
       "      <td>0.0</td>\n",
       "      <td>0.0</td>\n",
       "      <td>0.0</td>\n",
       "      <td>19.0</td>\n",
       "      <td>154.216667</td>\n",
       "      <td>0.015789</td>\n",
       "      <td>0.024561</td>\n",
       "      <td>0.0</td>\n",
       "      <td>0.0</td>\n",
       "      <td>February</td>\n",
       "      <td>Android</td>\n",
       "      <td>Chrome</td>\n",
       "      <td>North America</td>\n",
       "      <td>3.0</td>\n",
       "      <td>Returning</td>\n",
       "      <td>False</td>\n",
       "      <td>0</td>\n",
       "    </tr>\n",
       "  </tbody>\n",
       "</table>\n",
       "</div>"
      ],
      "text/plain": [
       "   AdClicks  InfoSectionCount  InfoSectionTime  HelpPageVisits  HelpPageTime  \\\n",
       "0       0.0               0.0              0.0             0.0           0.0   \n",
       "1       4.0               0.0              0.0             0.0           0.0   \n",
       "2       0.0               0.0              0.0             0.0           0.0   \n",
       "3       4.0               0.0              0.0             0.0           0.0   \n",
       "5       2.0               0.0              0.0             0.0           0.0   \n",
       "\n",
       "   ItemBrowseCount  ItemBrowseTime  ExitRateFirstPage  SessionExitRatio  \\\n",
       "0              1.0        0.000000           0.200000          0.200000   \n",
       "1              2.0       64.000000           0.000000          0.100000   \n",
       "2              1.0        0.000000           0.200000          0.200000   \n",
       "3              2.0        2.666667           0.050000          0.140000   \n",
       "5             19.0      154.216667           0.015789          0.024561   \n",
       "\n",
       "   PageEngagementScore  HolidayProximityIndex VisitMonth UserPlatformID  \\\n",
       "0                  0.0                    0.0   February        Windows   \n",
       "1                  0.0                    0.0   February        Android   \n",
       "2                  0.0                    0.0   February          MacOS   \n",
       "3                  0.0                    0.0   February            iOS   \n",
       "5                  0.0                    0.0   February        Android   \n",
       "\n",
       "  WebClientCode     MarketZone  TrafficSourceCode UserCategory  \\\n",
       "0        Safari  North America                1.0    Returning   \n",
       "1        Chrome  North America                2.0    Returning   \n",
       "2        Safari          Other                3.0    Returning   \n",
       "3        Chrome         Europe                4.0    Returning   \n",
       "5        Chrome  North America                3.0    Returning   \n",
       "\n",
       "   IsWeekendVisit  MonetaryConversion  \n",
       "0           False                   0  \n",
       "1           False                   0  \n",
       "2           False                   0  \n",
       "3           False                   0  \n",
       "5           False                   0  "
      ]
     },
     "execution_count": 13,
     "metadata": {},
     "output_type": "execute_result"
    }
   ],
   "source": [
    "df.head()"
   ]
  },
  {
   "cell_type": "code",
   "execution_count": 14,
   "id": "4b1e147c",
   "metadata": {},
   "outputs": [
    {
     "data": {
      "text/plain": [
       "(11481, 19)"
      ]
     },
     "execution_count": 14,
     "metadata": {},
     "output_type": "execute_result"
    }
   ],
   "source": [
    "df.shape"
   ]
  },
  {
   "cell_type": "markdown",
   "id": "2962d35e",
   "metadata": {},
   "source": [
    "Train Test Split"
   ]
  },
  {
   "cell_type": "code",
   "execution_count": 15,
   "id": "89e20ceb",
   "metadata": {},
   "outputs": [],
   "source": [
    "X = df[['AdClicks', 'InfoSectionCount', 'InfoSectionTime', 'HelpPageVisits', 'HelpPageTime', 'ItemBrowseCount', 'ItemBrowseTime', 'ExitRateFirstPage', 'SessionExitRatio', 'PageEngagementScore', 'HolidayProximityIndex', 'VisitMonth', 'UserPlatformID', 'WebClientCode', 'MarketZone', 'TrafficSourceCode', 'UserCategory', 'IsWeekendVisit']]\n",
    "y = df['MonetaryConversion']\n",
    "from sklearn.model_selection import train_test_split\n",
    "X_train, X_test, y_train, y_test = train_test_split(X, y, test_size=0.2, stratify=y, random_state=42)"
   ]
  },
  {
   "cell_type": "markdown",
   "id": "b84794a9",
   "metadata": {},
   "source": [
    "Encoding"
   ]
  },
  {
   "cell_type": "code",
   "execution_count": 20,
   "id": "75b0bb6c",
   "metadata": {},
   "outputs": [
    {
     "name": "stdout",
     "output_type": "stream",
     "text": [
      "(9184, 50)\n"
     ]
    },
    {
     "name": "stderr",
     "output_type": "stream",
     "text": [
      "c:\\Users\\admin\\AppData\\Local\\Programs\\Python\\Python313\\Lib\\site-packages\\sklearn\\preprocessing\\_encoders.py:246: UserWarning: Found unknown categories in columns [2] during transform. These unknown categories will be encoded as all zeros\n",
      "  warnings.warn(\n"
     ]
    }
   ],
   "source": [
    "numerical_features = ['AdClicks', 'InfoSectionCount', 'InfoSectionTime', 'HelpPageVisits', 'HelpPageTime', 'ItemBrowseCount', 'ItemBrowseTime', 'ExitRateFirstPage', 'SessionExitRatio', 'PageEngagementScore', 'HolidayProximityIndex', 'TrafficSourceCode']\n",
    "categorical_features = ['VisitMonth', 'UserPlatformID', 'WebClientCode', 'MarketZone', 'UserCategory', 'IsWeekendVisit']\n",
    "from sklearn.preprocessing import OneHotEncoder\n",
    "ohe = OneHotEncoder(drop='first', sparse_output=False, handle_unknown='ignore')\n",
    "X_train_cat = ohe.fit_transform(X_train[categorical_features])\n",
    "X_test_cat = ohe.transform(X_test[categorical_features])\n",
    "print(np.hstack((X_train[numerical_features].values, X_train_cat)).shape)"
   ]
  },
  {
   "cell_type": "code",
   "execution_count": 21,
   "id": "d6c860d7",
   "metadata": {},
   "outputs": [],
   "source": [
    "X_train_final = pd.DataFrame(\n",
    "    np.hstack((X_train[numerical_features].values, X_train_cat)),\n",
    "    columns = numerical_features + list(ohe.get_feature_names_out(categorical_features))\n",
    ")\n",
    "\n",
    "X_test_final = pd.DataFrame(\n",
    "    np.hstack((X_test[numerical_features].values, X_test_cat)),\n",
    "    columns = numerical_features + list(ohe.get_feature_names_out(categorical_features))\n",
    ")"
   ]
  },
  {
   "cell_type": "markdown",
   "id": "2a07bc48",
   "metadata": {},
   "source": [
    "Feature Scaling"
   ]
  },
  {
   "cell_type": "code",
   "execution_count": 22,
   "id": "25a28809",
   "metadata": {},
   "outputs": [],
   "source": [
    "from sklearn.preprocessing import StandardScaler\n",
    "scaler = StandardScaler()\n",
    "X_train_scaled = pd.DataFrame(scaler.fit_transform(X_train_final), columns=X_train_final.columns)\n",
    "X_test_scaled = pd.DataFrame(scaler.transform(X_test_final), columns=X_test_final.columns)"
   ]
  },
  {
   "cell_type": "markdown",
   "id": "31f5f855",
   "metadata": {},
   "source": [
    "Logistic Regression on Scaled Fetures"
   ]
  },
  {
   "cell_type": "code",
   "execution_count": 24,
   "id": "211f5f5f",
   "metadata": {},
   "outputs": [
    {
     "name": "stdout",
     "output_type": "stream",
     "text": [
      "Train Accuracy: 0.8837108013937283\n",
      "Test Accuracy: 0.8841967784066174\n",
      "Precision: 0.7305699481865285\n",
      "Recall: 0.3971830985915493\n",
      "F1 Score: 0.5145985401459854\n",
      "ROC-AUC: 0.8909864956992211\n"
     ]
    }
   ],
   "source": [
    "from sklearn.linear_model import LogisticRegression\n",
    "from sklearn.metrics import accuracy_score, precision_score, recall_score, f1_score, roc_auc_score, confusion_matrix\n",
    "from sklearn.model_selection import cross_val_score\n",
    "\n",
    "lr_model = LogisticRegression(max_iter=1000, random_state=42)\n",
    "lr_model.fit(X_train_scaled, y_train)\n",
    "\n",
    "y_train_pred = lr_model.predict(X_train_scaled)\n",
    "y_test_pred = lr_model.predict(X_test_scaled)\n",
    "y_test_proba = lr_model.predict_proba(X_test_scaled)[:, 1]\n",
    "\n",
    "print(\"Train Accuracy:\", accuracy_score(y_train, y_train_pred))\n",
    "print(\"Test Accuracy:\", accuracy_score(y_test, y_test_pred))\n",
    "print(\"Precision:\", precision_score(y_test, y_test_pred))\n",
    "print(\"Recall:\", recall_score(y_test, y_test_pred))\n",
    "print(\"F1 Score:\", f1_score(y_test, y_test_pred))\n",
    "print(\"ROC-AUC:\", roc_auc_score(y_test, y_test_proba))\n"
   ]
  },
  {
   "cell_type": "markdown",
   "id": "edea71dd",
   "metadata": {},
   "source": [
    "Logistic Regression on Unscaled Features"
   ]
  },
  {
   "cell_type": "code",
   "execution_count": 25,
   "id": "6438686d",
   "metadata": {},
   "outputs": [
    {
     "name": "stdout",
     "output_type": "stream",
     "text": [
      "Train Accuracy: 0.8820775261324042\n",
      "Test Accuracy: 0.8820200261210275\n",
      "Precision: 0.7210526315789474\n",
      "Recall: 0.38591549295774646\n",
      "F1 Score: 0.5027522935779817\n",
      "ROC-AUC: 0.8942051899450255\n"
     ]
    },
    {
     "name": "stderr",
     "output_type": "stream",
     "text": [
      "c:\\Users\\admin\\AppData\\Local\\Programs\\Python\\Python313\\Lib\\site-packages\\sklearn\\linear_model\\_logistic.py:473: ConvergenceWarning: lbfgs failed to converge after 3000 iteration(s) (status=1):\n",
      "STOP: TOTAL NO. OF ITERATIONS REACHED LIMIT\n",
      "\n",
      "Increase the number of iterations to improve the convergence (max_iter=3000).\n",
      "You might also want to scale the data as shown in:\n",
      "    https://scikit-learn.org/stable/modules/preprocessing.html\n",
      "Please also refer to the documentation for alternative solver options:\n",
      "    https://scikit-learn.org/stable/modules/linear_model.html#logistic-regression\n",
      "  n_iter_i = _check_optimize_result(\n"
     ]
    }
   ],
   "source": [
    "lr_model = LogisticRegression(max_iter=3000, random_state=42)\n",
    "lr_model.fit(X_train_final, y_train)\n",
    "\n",
    "y_train_pred = lr_model.predict(X_train_final)\n",
    "y_test_pred = lr_model.predict(X_test_final)\n",
    "y_test_proba = lr_model.predict_proba(X_test_final)[:, 1]\n",
    "\n",
    "print(\"Train Accuracy:\", accuracy_score(y_train, y_train_pred))\n",
    "print(\"Test Accuracy:\", accuracy_score(y_test, y_test_pred))\n",
    "print(\"Precision:\", precision_score(y_test, y_test_pred))\n",
    "print(\"Recall:\", recall_score(y_test, y_test_pred))\n",
    "print(\"F1 Score:\", f1_score(y_test, y_test_pred))\n",
    "print(\"ROC-AUC:\", roc_auc_score(y_test, y_test_proba))\n"
   ]
  },
  {
   "cell_type": "markdown",
   "id": "c9b0e83b",
   "metadata": {},
   "source": [
    "Random Forest Classifier"
   ]
  },
  {
   "cell_type": "code",
   "execution_count": 26,
   "id": "290c4382",
   "metadata": {},
   "outputs": [],
   "source": [
    "from sklearn.ensemble import RandomForestClassifier\n",
    "rf_model = RandomForestClassifier()\n",
    "rf_model.fit(X_train_final, y_train)\n",
    "y_train_pred = rf_model.predict(X_train_final)\n",
    "y_test_pred = rf_model.predict(X_test_final)\n",
    "y_test_proba = rf_model.predict_proba(X_test_final)[:, 1]"
   ]
  },
  {
   "cell_type": "code",
   "execution_count": 27,
   "id": "0b38e9b7",
   "metadata": {},
   "outputs": [
    {
     "name": "stdout",
     "output_type": "stream",
     "text": [
      "Train Accuracy: 1.0\n",
      "Test Accuracy: 0.9020461471484545\n",
      "Precision: 0.751937984496124\n",
      "Recall: 0.5464788732394367\n",
      "F1 Score: 0.632952691680261\n",
      "ROC-AUC: 0.9102993864318765\n"
     ]
    }
   ],
   "source": [
    "print(\"Train Accuracy:\", accuracy_score(y_train, y_train_pred))\n",
    "print(\"Test Accuracy:\", accuracy_score(y_test, y_test_pred))\n",
    "print(\"Precision:\", precision_score(y_test, y_test_pred))\n",
    "print(\"Recall:\", recall_score(y_test, y_test_pred))\n",
    "print(\"F1 Score:\", f1_score(y_test, y_test_pred))\n",
    "print(\"ROC-AUC:\", roc_auc_score(y_test, y_test_proba))"
   ]
  },
  {
   "cell_type": "code",
   "execution_count": 28,
   "id": "65cbf7e3",
   "metadata": {},
   "outputs": [
    {
     "name": "stdout",
     "output_type": "stream",
     "text": [
      "CV Accuracy (mean): 0.8990633112859248\n",
      "CV ROC-AUC (mean): 0.9150552494781106\n"
     ]
    }
   ],
   "source": [
    "cv_acc = cross_val_score(rf_model, X_train_final, y_train, cv=5, scoring='accuracy')\n",
    "cv_auc = cross_val_score(rf_model, X_train_final, y_train, cv=5, scoring='roc_auc')\n",
    "\n",
    "print(\"CV Accuracy (mean):\", cv_acc.mean())\n",
    "print(\"CV ROC-AUC (mean):\", cv_auc.mean())"
   ]
  },
  {
   "cell_type": "markdown",
   "id": "f04227c0",
   "metadata": {},
   "source": [
    "HyperParameter Tuning Using GridSearchCV"
   ]
  },
  {
   "cell_type": "code",
   "execution_count": 29,
   "id": "4aa64614",
   "metadata": {},
   "outputs": [
    {
     "name": "stdout",
     "output_type": "stream",
     "text": [
      "Fitting 3 folds for each of 72 candidates, totalling 216 fits\n",
      "RandomForestClassifier(max_depth=20, min_samples_leaf=2, min_samples_split=3)\n"
     ]
    }
   ],
   "source": [
    "from sklearn.model_selection import GridSearchCV\n",
    "param_grid = {\n",
    "    'n_estimators': [100, 150, 200],\n",
    "    'max_depth': [None, 10, 15, 20],\n",
    "    'min_samples_split': [2, 3, 5],\n",
    "    'min_samples_leaf': [1, 2]\n",
    "}\n",
    "grid_search = GridSearchCV(estimator=rf_model, param_grid=param_grid, cv=3, scoring='accuracy', n_jobs=-1, verbose=2)\n",
    "grid_search.fit(X_train_final, y_train)\n",
    "best_rf = grid_search.best_estimator_\n",
    "print(best_rf)\n",
    "y_train_pred = best_rf.predict(X_train_final)\n",
    "y_test_pred = best_rf.predict(X_test_final)\n",
    "y_test_proba = best_rf.predict_proba(X_test_final)[:, 1]"
   ]
  },
  {
   "cell_type": "code",
   "execution_count": 30,
   "id": "59322aa3",
   "metadata": {},
   "outputs": [
    {
     "name": "stdout",
     "output_type": "stream",
     "text": [
      "Train Accuracy: 0.9688588850174216\n",
      "Test Accuracy: 0.9007400957771006\n",
      "Precision: 0.7529880478087649\n",
      "Recall: 0.532394366197183\n",
      "F1 Score: 0.6237623762376238\n",
      "ROC-AUC: 0.9162617310453867\n"
     ]
    }
   ],
   "source": [
    "print(\"Train Accuracy:\", accuracy_score(y_train, y_train_pred))\n",
    "print(\"Test Accuracy:\", accuracy_score(y_test, y_test_pred))\n",
    "print(\"Precision:\", precision_score(y_test, y_test_pred))\n",
    "print(\"Recall:\", recall_score(y_test, y_test_pred))\n",
    "print(\"F1 Score:\", f1_score(y_test, y_test_pred))\n",
    "print(\"ROC-AUC:\", roc_auc_score(y_test, y_test_proba))"
   ]
  },
  {
   "cell_type": "code",
   "execution_count": 31,
   "id": "70dc3162",
   "metadata": {},
   "outputs": [
    {
     "name": "stdout",
     "output_type": "stream",
     "text": [
      "CV Accuracy (mean): 0.9010232654121347\n",
      "CV ROC-AUC (mean): 0.9145994624289739\n"
     ]
    }
   ],
   "source": [
    "cv_acc = cross_val_score(rf_model, X_train_final, y_train, cv=5, scoring='accuracy')\n",
    "cv_auc = cross_val_score(rf_model, X_train_final, y_train, cv=5, scoring='roc_auc')\n",
    "\n",
    "print(\"CV Accuracy (mean):\", cv_acc.mean())\n",
    "print(\"CV ROC-AUC (mean):\", cv_auc.mean())"
   ]
  },
  {
   "cell_type": "markdown",
   "id": "338fd79d",
   "metadata": {},
   "source": [
    "RandomForest Classifier After HyperParameter Tuning"
   ]
  },
  {
   "cell_type": "code",
   "execution_count": 32,
   "id": "d90c6aa2",
   "metadata": {},
   "outputs": [],
   "source": [
    "from sklearn.ensemble import RandomForestClassifier\n",
    "rf_model = RandomForestClassifier(max_depth=20, min_samples_leaf=2, min_samples_split=3)\n",
    "rf_model.fit(X_train_final, y_train)\n",
    "y_train_pred = rf_model.predict(X_train_final)\n",
    "y_test_pred = rf_model.predict(X_test_final)\n",
    "y_test_proba = rf_model.predict_proba(X_test_final)[:, 1]"
   ]
  },
  {
   "cell_type": "code",
   "execution_count": 33,
   "id": "b24d1cb8",
   "metadata": {},
   "outputs": [
    {
     "name": "stdout",
     "output_type": "stream",
     "text": [
      "Train Accuracy: 0.9679878048780488\n",
      "Test Accuracy: 0.8998693948628647\n",
      "Precision: 0.7431906614785992\n",
      "Recall: 0.5380281690140845\n",
      "F1 Score: 0.6241830065359477\n",
      "ROC-AUC: 0.9163850248763437\n"
     ]
    }
   ],
   "source": [
    "print(\"Train Accuracy:\", accuracy_score(y_train, y_train_pred))\n",
    "print(\"Test Accuracy:\", accuracy_score(y_test, y_test_pred))\n",
    "print(\"Precision:\", precision_score(y_test, y_test_pred))\n",
    "print(\"Recall:\", recall_score(y_test, y_test_pred))\n",
    "print(\"F1 Score:\", f1_score(y_test, y_test_pred))\n",
    "print(\"ROC-AUC:\", roc_auc_score(y_test, y_test_proba))"
   ]
  },
  {
   "cell_type": "code",
   "execution_count": 34,
   "id": "5246eca7",
   "metadata": {},
   "outputs": [
    {
     "name": "stdout",
     "output_type": "stream",
     "text": [
      "CV Accuracy (mean): 0.8999344151862644\n",
      "CV ROC-AUC (mean): 0.9199774273326925\n"
     ]
    }
   ],
   "source": [
    "cv_acc = cross_val_score(rf_model, X_train_final, y_train, cv=5, scoring='accuracy')\n",
    "cv_auc = cross_val_score(rf_model, X_train_final, y_train, cv=5, scoring='roc_auc')\n",
    "\n",
    "print(\"CV Accuracy (mean):\", cv_acc.mean())\n",
    "print(\"CV ROC-AUC (mean):\", cv_auc.mean())"
   ]
  },
  {
   "cell_type": "markdown",
   "id": "ab59e7da",
   "metadata": {},
   "source": [
    "Gradient Boosting"
   ]
  },
  {
   "cell_type": "code",
   "execution_count": 35,
   "id": "f3686dac",
   "metadata": {},
   "outputs": [],
   "source": [
    "from sklearn.ensemble import GradientBoostingClassifier\n",
    "gb_model = GradientBoostingClassifier(random_state=42)\n",
    "gb_model.fit(X_train_scaled, y_train)\n",
    "y_train_pred = gb_model.predict(X_train_scaled)\n",
    "y_test_pred = gb_model.predict(X_test_scaled)\n",
    "y_test_proba = gb_model.predict_proba(X_test_scaled)[:, 1]"
   ]
  },
  {
   "cell_type": "code",
   "execution_count": 36,
   "id": "e3fcebfc",
   "metadata": {},
   "outputs": [
    {
     "name": "stdout",
     "output_type": "stream",
     "text": [
      "Train Accuracy: 0.9182273519163763\n",
      "Test Accuracy: 0.8955158902916848\n",
      "Precision: 0.6897689768976898\n",
      "Recall: 0.5887323943661972\n",
      "F1 Score: 0.6352583586626139\n",
      "ROC-AUC: 0.919617499020902\n"
     ]
    }
   ],
   "source": [
    "print(\"Train Accuracy:\", accuracy_score(y_train, y_train_pred))\n",
    "print(\"Test Accuracy:\", accuracy_score(y_test, y_test_pred))\n",
    "print(\"Precision:\", precision_score(y_test, y_test_pred))\n",
    "print(\"Recall:\", recall_score(y_test, y_test_pred))\n",
    "print(\"F1 Score:\", f1_score(y_test, y_test_pred))\n",
    "print(\"ROC-AUC:\", roc_auc_score(y_test, y_test_proba))"
   ]
  },
  {
   "cell_type": "code",
   "execution_count": 37,
   "id": "6aca038f",
   "metadata": {},
   "outputs": [
    {
     "name": "stdout",
     "output_type": "stream",
     "text": [
      "CV Accuracy (mean): 0.9013494698066731\n",
      "CV ROC-AUC (mean): 0.9176045489446082\n"
     ]
    }
   ],
   "source": [
    "cv_acc = cross_val_score(rf_model, X_train_final, y_train, cv=5, scoring='accuracy')\n",
    "cv_auc = cross_val_score(rf_model, X_train_final, y_train, cv=5, scoring='roc_auc')\n",
    "\n",
    "print(\"CV Accuracy (mean):\", cv_acc.mean())\n",
    "print(\"CV ROC-AUC (mean):\", cv_auc.mean())"
   ]
  },
  {
   "cell_type": "code",
   "execution_count": null,
   "id": "23a8b8e9",
   "metadata": {},
   "outputs": [],
   "source": []
  }
 ],
 "metadata": {
  "kernelspec": {
   "display_name": "Python 3",
   "language": "python",
   "name": "python3"
  },
  "language_info": {
   "codemirror_mode": {
    "name": "ipython",
    "version": 3
   },
   "file_extension": ".py",
   "mimetype": "text/x-python",
   "name": "python",
   "nbconvert_exporter": "python",
   "pygments_lexer": "ipython3",
   "version": "3.13.7"
  }
 },
 "nbformat": 4,
 "nbformat_minor": 5
}
